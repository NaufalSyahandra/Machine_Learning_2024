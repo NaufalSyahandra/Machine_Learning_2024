{
 "cells": [
  {
   "metadata": {},
   "cell_type": "markdown",
   "source": [
    "# **Practicum - 4**"
   ],
   "id": "2ca59127c61421a1"
  },
  {
   "metadata": {},
   "cell_type": "markdown",
   "source": [
    "## **SOM for Segmentation of Lenna Image**"
   ],
   "id": "935ef6d4fd7ad44"
  },
  {
   "metadata": {},
   "cell_type": "markdown",
   "source": [
    "### **Import Library**"
   ],
   "id": "ac5a2bb7a9186c54"
  },
  {
   "cell_type": "code",
   "id": "initial_id",
   "metadata": {
    "collapsed": true,
    "ExecuteTime": {
     "end_time": "2024-10-10T08:01:17.897751Z",
     "start_time": "2024-10-10T08:01:17.735439Z"
    }
   },
   "source": [
    "import numpy as np\n",
    "import matplotlib.pyplot as plt\n",
    "from skimage import io"
   ],
   "outputs": [],
   "execution_count": 1
  },
  {
   "metadata": {},
   "cell_type": "markdown",
   "source": [
    "### **Function for Weight Initialization**"
   ],
   "id": "be5befbe728f2ca7"
  },
  {
   "metadata": {
    "ExecuteTime": {
     "end_time": "2024-10-10T08:01:34.508792Z",
     "start_time": "2024-10-10T08:01:34.503928Z"
    }
   },
   "cell_type": "code",
   "source": [
    "def initialize_weights(input_shape, output_shape):\n",
    "    return np.random.rand(output_shape[0], output_shape[1], input_shape[2])"
   ],
   "id": "e7868d8051514819",
   "outputs": [],
   "execution_count": 2
  },
  {
   "metadata": {},
   "cell_type": "markdown",
   "source": [
    "### **Function to Calculate Distance between SOM Weights and Vector Input**"
   ],
   "id": "c130440365fef46a"
  },
  {
   "metadata": {
    "ExecuteTime": {
     "end_time": "2024-10-10T08:01:37.589027Z",
     "start_time": "2024-10-10T08:01:37.584008Z"
    }
   },
   "cell_type": "code",
   "source": [
    "def calculate_distance(input_vector, weights):\n",
    "    return np.linalg.norm(input_vector - weights, axis=2)"
   ],
   "id": "d04d09eaae63fa80",
   "outputs": [],
   "execution_count": 3
  },
  {
   "metadata": {},
   "cell_type": "markdown",
   "source": [
    "### **Function to Find Winning Unit Index**"
   ],
   "id": "bd42a9c9a1ab48d8"
  },
  {
   "metadata": {
    "ExecuteTime": {
     "end_time": "2024-10-10T08:01:53.273408Z",
     "start_time": "2024-10-10T08:01:53.268953Z"
    }
   },
   "cell_type": "code",
   "source": [
    "def find_winner_unit_in_image(input_vector, weights):\n",
    "    distances = calculate_distance(input_vector, weights)\n",
    "    return np.unravel_index(np.argmin(distances), distances.shape)"
   ],
   "id": "6fca71df31a35621",
   "outputs": [],
   "execution_count": 4
  },
  {
   "metadata": {},
   "cell_type": "markdown",
   "source": [
    "### **Function to Update SOM Weight**"
   ],
   "id": "6a1578b657ace153"
  },
  {
   "metadata": {
    "ExecuteTime": {
     "end_time": "2024-10-10T08:02:06.214109Z",
     "start_time": "2024-10-10T08:02:06.208309Z"
    }
   },
   "cell_type": "code",
   "source": [
    "def update_weights(input_vector, weights, winner, learning_rate, neighborhood_radius):\n",
    "    distances = np.linalg.norm(np.indices(weights.shape[:2]).T - np.array(winner).reshape(1, -1), axis=2)\n",
    "    influence = np.exp(-distances / (2 * neighborhood_radius**2))\n",
    "    weights += learning_rate * influence[:, :, np.newaxis] * (input_vector - weights)"
   ],
   "id": "a9c182e5b935fb36",
   "outputs": [],
   "execution_count": 5
  },
  {
   "metadata": {},
   "cell_type": "markdown",
   "source": [
    "### **Function to Train SOM**"
   ],
   "id": "d8ea111ffdd454d9"
  },
  {
   "metadata": {
    "ExecuteTime": {
     "end_time": "2024-10-10T08:02:12.217134Z",
     "start_time": "2024-10-10T08:02:12.210276Z"
    }
   },
   "cell_type": "code",
   "source": [
    "def train_som(image, num_epochs, initial_learning_rate, initial_neighborhood_radius):\n",
    "    input_shape = image.shape\n",
    "    som_shape = (10, 10, input_shape[2])  # Ukuran SOM sesuai dengan jumlah saluran warna\n",
    "    weights = initialize_weights(input_shape, som_shape)\n",
    "\n",
    "    for epoch in range(num_epochs):\n",
    "        # Update parameter pembelajaran dan radius tetangga\n",
    "        learning_rate = initial_learning_rate * np.exp(-epoch / num_epochs)\n",
    "        neighborhood_radius = initial_neighborhood_radius * np.exp(-epoch / num_epochs)\n",
    "        # Pemrosesan SOM\n",
    "        for i in range(input_shape[0]):\n",
    "            for j in range(input_shape[1]):\n",
    "                input_vector = image[i, j, :]\n",
    "                winner = find_winner_unit_in_image(input_vector, weights)\n",
    "                update_weights(input_vector, weights, winner, learning_rate, neighborhood_radius)\n",
    "\n",
    "    return weights"
   ],
   "id": "547b2a85aa2a0714",
   "outputs": [],
   "execution_count": 6
  },
  {
   "metadata": {},
   "cell_type": "markdown",
   "source": [
    "### **Load Lenna Image**"
   ],
   "id": "991d2560a32d0464"
  },
  {
   "metadata": {
    "ExecuteTime": {
     "end_time": "2024-10-10T08:02:26.660547Z",
     "start_time": "2024-10-10T08:02:26.607459Z"
    }
   },
   "cell_type": "code",
   "source": [
    "Lenna_path = \"data/Lenna.png\"\n",
    "Lenna = io.imread(Lenna_path) / 255.0  # Normalisasi intensitas piksel menjadi rentang [0, 1]"
   ],
   "id": "df50ce2519a97a82",
   "outputs": [],
   "execution_count": 7
  },
  {
   "metadata": {},
   "cell_type": "markdown",
   "source": [
    "### **Visualization Lenna Image**"
   ],
   "id": "f59bc5979e87f9fd"
  },
  {
   "metadata": {
    "ExecuteTime": {
     "end_time": "2024-10-10T08:30:29.365258Z",
     "start_time": "2024-10-10T08:02:31.981671Z"
    }
   },
   "cell_type": "code",
   "source": [
    "num_epochs = 100\n",
    "initial_learning_rate = 0.1\n",
    "initial_neighborhood_radius = 5\n",
    "trained_weights = train_som(Lenna, num_epochs, initial_learning_rate, initial_neighborhood_radius)"
   ],
   "id": "f8a220d9dfc0b512",
   "outputs": [],
   "execution_count": 8
  },
  {
   "metadata": {
    "ExecuteTime": {
     "end_time": "2024-10-10T08:30:29.627767Z",
     "start_time": "2024-10-10T08:30:29.372802Z"
    }
   },
   "cell_type": "code",
   "source": [
    "# Visualisasi bobot SOM\n",
    "plt.imshow(trained_weights)\n",
    "plt.title('Trained SOM Weights for Lena')\n",
    "plt.show()"
   ],
   "id": "6af8406a3fc9ce90",
   "outputs": [
    {
     "data": {
      "text/plain": [
       "<Figure size 640x480 with 1 Axes>"
      ],
      "image/png": "[encoded data removed]"
     },
     "metadata": {},
     "output_type": "display_data"
    }
   ],
   "execution_count": 9
  }
 ],
 "metadata": {
  "kernelspec": {
   "display_name": "Python 3",
   "language": "python",
   "name": "python3"
  },
  "language_info": {
   "codemirror_mode": {
    "name": "ipython",
    "version": 2
   },
   "file_extension": ".py",
   "mimetype": "text/x-python",
   "name": "python",
   "nbconvert_exporter": "python",
   "pygments_lexer": "ipython2",
   "version": "2.7.6"
  }
 },
 "nbformat": 4,
 "nbformat_minor": 5
}
