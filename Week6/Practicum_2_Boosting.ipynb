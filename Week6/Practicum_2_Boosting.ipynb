{
 "cells": [
  {
   "metadata": {},
   "cell_type": "markdown",
   "source": [
    "# **Practicum - 2**\n",
    "*Boosting*"
   ],
   "id": "aabd16707a3d71e6"
  },
  {
   "metadata": {},
   "cell_type": "markdown",
   "source": "## Boosting with AdaBoost",
   "id": "a4655806177eb937"
  },
  {
   "metadata": {},
   "cell_type": "markdown",
   "source": "### Import Library",
   "id": "d746c6fe21fa0191"
  },
  {
   "cell_type": "code",
   "id": "initial_id",
   "metadata": {
    "collapsed": true,
    "ExecuteTime": {
     "end_time": "2024-10-03T06:08:35.711452Z",
     "start_time": "2024-10-03T06:08:34.332453Z"
    }
   },
   "source": [
    "import numpy as np\n",
    "import pandas as pd\n",
    "from sklearn.tree import DecisionTreeClassifier # import DT\n",
    "from sklearn.ensemble import AdaBoostClassifier # import AdaBoost\n",
    "from sklearn.model_selection import train_test_split\n",
    "from sklearn.metrics import accuracy_score, classification_report\n",
    "from sklearn.preprocessing import LabelEncoder # encoding label"
   ],
   "outputs": [],
   "execution_count": 1
  },
  {
   "metadata": {},
   "cell_type": "markdown",
   "source": "### Data Preparation ",
   "id": "c8e427f34a9288d8"
  },
  {
   "metadata": {
    "ExecuteTime": {
     "end_time": "2024-10-03T06:09:09.677946Z",
     "start_time": "2024-10-03T06:09:09.647784Z"
    }
   },
   "cell_type": "code",
   "source": [
    "# Load data\n",
    "df = pd.read_csv('data/iris.csv')\n",
    "\n",
    "df.head()"
   ],
   "id": "2029713587b52bf8",
   "outputs": [
    {
     "data": {
      "text/plain": [
       "   Id  SepalLengthCm  SepalWidthCm  PetalLengthCm  PetalWidthCm      Species\n",
       "0   1            5.1           3.5            1.4           0.2  Iris-setosa\n",
       "1   2            4.9           3.0            1.4           0.2  Iris-setosa\n",
       "2   3            4.7           3.2            1.3           0.2  Iris-setosa\n",
       "3   4            4.6           3.1            1.5           0.2  Iris-setosa\n",
       "4   5            5.0           3.6            1.4           0.2  Iris-setosa"
      ],
      "text/html": [
       "<div>\n",
       "<style scoped>\n",
       "    .dataframe tbody tr th:only-of-type {\n",
       "        vertical-align: middle;\n",
       "    }\n",
       "\n",
       "    .dataframe tbody tr th {\n",
       "        vertical-align: top;\n",
       "    }\n",
       "\n",
       "    .dataframe thead th {\n",
       "        text-align: right;\n",
       "    }\n",
       "</style>\n",
       "<table border=\"1\" class=\"dataframe\">\n",
       "  <thead>\n",
       "    <tr style=\"text-align: right;\">\n",
       "      <th></th>\n",
       "      <th>Id</th>\n",
       "      <th>SepalLengthCm</th>\n",
       "      <th>SepalWidthCm</th>\n",
       "      <th>PetalLengthCm</th>\n",
       "      <th>PetalWidthCm</th>\n",
       "      <th>Species</th>\n",
       "    </tr>\n",
       "  </thead>\n",
       "  <tbody>\n",
       "    <tr>\n",
       "      <th>0</th>\n",
       "      <td>1</td>\n",
       "      <td>5.1</td>\n",
       "      <td>3.5</td>\n",
       "      <td>1.4</td>\n",
       "      <td>0.2</td>\n",
       "      <td>Iris-setosa</td>\n",
       "    </tr>\n",
       "    <tr>\n",
       "      <th>1</th>\n",
       "      <td>2</td>\n",
       "      <td>4.9</td>\n",
       "      <td>3.0</td>\n",
       "      <td>1.4</td>\n",
       "      <td>0.2</td>\n",
       "      <td>Iris-setosa</td>\n",
       "    </tr>\n",
       "    <tr>\n",
       "      <th>2</th>\n",
       "      <td>3</td>\n",
       "      <td>4.7</td>\n",
       "      <td>3.2</td>\n",
       "      <td>1.3</td>\n",
       "      <td>0.2</td>\n",
       "      <td>Iris-setosa</td>\n",
       "    </tr>\n",
       "    <tr>\n",
       "      <th>3</th>\n",
       "      <td>4</td>\n",
       "      <td>4.6</td>\n",
       "      <td>3.1</td>\n",
       "      <td>1.5</td>\n",
       "      <td>0.2</td>\n",
       "      <td>Iris-setosa</td>\n",
       "    </tr>\n",
       "    <tr>\n",
       "      <th>4</th>\n",
       "      <td>5</td>\n",
       "      <td>5.0</td>\n",
       "      <td>3.6</td>\n",
       "      <td>1.4</td>\n",
       "      <td>0.2</td>\n",
       "      <td>Iris-setosa</td>\n",
       "    </tr>\n",
       "  </tbody>\n",
       "</table>\n",
       "</div>"
      ]
     },
     "execution_count": 2,
     "metadata": {},
     "output_type": "execute_result"
    }
   ],
   "execution_count": 2
  },
  {
   "metadata": {
    "ExecuteTime": {
     "end_time": "2024-10-03T06:09:19.208428Z",
     "start_time": "2024-10-03T06:09:19.198127Z"
    }
   },
   "cell_type": "code",
   "source": [
    "# Check null column\n",
    "df.isnull().sum()"
   ],
   "id": "e5d91d431e46e3d2",
   "outputs": [
    {
     "data": {
      "text/plain": [
       "Id               0\n",
       "SepalLengthCm    0\n",
       "SepalWidthCm     0\n",
       "PetalLengthCm    0\n",
       "PetalWidthCm     0\n",
       "Species          0\n",
       "dtype: int64"
      ]
     },
     "execution_count": 3,
     "metadata": {},
     "output_type": "execute_result"
    }
   ],
   "execution_count": 3
  },
  {
   "metadata": {
    "ExecuteTime": {
     "end_time": "2024-10-03T06:09:47.172515Z",
     "start_time": "2024-10-03T06:09:47.164711Z"
    }
   },
   "cell_type": "code",
   "source": [
    "# Seleksi fitur\n",
    "X = df.iloc[:,2:-1]\n",
    "y = df['Species']\n",
    "\n",
    "# encode label\n",
    "ec = LabelEncoder()\n",
    "y = ec.fit_transform(y)\n",
    "\n",
    "# Cek jumlah fitur dan instance\n",
    "print(X.shape)\n",
    "\n",
    "# Cek label\n",
    "print(y)"
   ],
   "id": "dc24e396986d023b",
   "outputs": [
    {
     "name": "stdout",
     "output_type": "stream",
     "text": [
      "(150, 3)\n",
      "[0 0 0 0 0 0 0 0 0 0 0 0 0 0 0 0 0 0 0 0 0 0 0 0 0 0 0 0 0 0 0 0 0 0 0 0 0\n",
      " 0 0 0 0 0 0 0 0 0 0 0 0 0 1 1 1 1 1 1 1 1 1 1 1 1 1 1 1 1 1 1 1 1 1 1 1 1\n",
      " 1 1 1 1 1 1 1 1 1 1 1 1 1 1 1 1 1 1 1 1 1 1 1 1 1 1 2 2 2 2 2 2 2 2 2 2 2\n",
      " 2 2 2 2 2 2 2 2 2 2 2 2 2 2 2 2 2 2 2 2 2 2 2 2 2 2 2 2 2 2 2 2 2 2 2 2 2\n",
      " 2 2]\n"
     ]
    }
   ],
   "execution_count": 4
  },
  {
   "metadata": {},
   "cell_type": "markdown",
   "source": "### Split data training dan testing",
   "id": "44e2c25204d526f5"
  },
  {
   "metadata": {
    "ExecuteTime": {
     "end_time": "2024-10-03T06:10:20.464668Z",
     "start_time": "2024-10-03T06:10:20.455802Z"
    }
   },
   "cell_type": "code",
   "source": [
    "from sklearn.model_selection import train_test_split\n",
    "\n",
    "X_train, X_test, y_train, y_test = train_test_split(X, y, test_size=0.2, random_state=1)"
   ],
   "id": "7c41cfd77b87a3c7",
   "outputs": [],
   "execution_count": 5
  },
  {
   "metadata": {},
   "cell_type": "markdown",
   "source": "### Training Desicion Tree",
   "id": "be29de2c6aaf5944"
  },
  {
   "metadata": {
    "ExecuteTime": {
     "end_time": "2024-10-03T06:10:43.700179Z",
     "start_time": "2024-10-03T06:10:43.686528Z"
    }
   },
   "cell_type": "code",
   "source": [
    "# By default, scikit-learn's DecisionTreeClassifier will use the \"Gini\" value for the criterion\n",
    "# In this case we will use the default parameters\n",
    "dt = DecisionTreeClassifier()\n",
    "\n",
    "# Adjust dt to training set\n",
    "dt.fit(X_train, y_train)\n",
    "\n",
    "# Predicting test set labels\n",
    "y_pred_dt = dt.predict(X_test)\n",
    "\n",
    "#  calculate set accuracy\n",
    "acc_dt = accuracy_score(y_test, y_pred_dt)\n",
    "print(\"Test set accuracy: {:.2f}\".format(acc_dt))\n",
    "print(f\"Test set accuracy: {acc_dt}\")"
   ],
   "id": "a6623dfd326eb1e3",
   "outputs": [
    {
     "name": "stdout",
     "output_type": "stream",
     "text": [
      "Test set accuracy: 0.97\n",
      "Test set accuracy: 0.9666666666666667\n"
     ]
    }
   ],
   "execution_count": 6
  },
  {
   "metadata": {},
   "cell_type": "markdown",
   "source": "### Training AdaBoost",
   "id": "a0723469c7a6efde"
  },
  {
   "metadata": {
    "ExecuteTime": {
     "end_time": "2024-10-03T06:27:05.509166Z",
     "start_time": "2024-10-03T06:27:05.477744Z"
    }
   },
   "cell_type": "code",
   "source": [
    "# In this case we will use the estimator on AdaBoost\n",
    "\n",
    "# Instantiate AdaBoostClassifier with SAMME algorithm\n",
    "ada = AdaBoostClassifier(n_estimators=2, algorithm='SAMME')\n",
    "\n",
    "# Instantiate AdaBoostClassifier with SAMME.R algorithm\n",
    "ada2 = AdaBoostClassifier(n_estimators=2, algorithm='SAMME.R')\n",
    "\n",
    "# Adjust dt to training set\n",
    "ada.fit(X_train, y_train)\n",
    "ada2.fit(X_train, y_train)\n",
    "\n",
    "# Predicting test set labels\n",
    "y_pred_ada = ada.predict(X_test)\n",
    "y_pred_ada2 = ada2.predict(X_test)\n",
    "\n",
    "#  calculate set accuracy\n",
    "acc_ada = accuracy_score(y_test, y_pred_ada)\n",
    "acc_ada2 = accuracy_score(y_test, y_pred_ada2)\n",
    "\n",
    "print(\"SAMME Algorithm\")\n",
    "print(\"Test set accuracy: {:.2f}\".format(acc_ada))\n",
    "print(f\"Test set accuracy: {acc_ada}\")\n",
    "print(\"---------------------------------------\")\n",
    "print(\"SAMME.R Algorithm\")\n",
    "print(\"Test set accuracy: {:.2f}\".format(acc_ada2))\n",
    "print(f\"Test set accuracy: {acc_ada2}\")\n"
   ],
   "id": "efb6de4327284583",
   "outputs": [
    {
     "name": "stdout",
     "output_type": "stream",
     "text": [
      "SAMME Algorithm\n",
      "Test set accuracy: 0.80\n",
      "Test set accuracy: 0.8\n",
      "---------------------------------------\n",
      "SAMME.R Algorithm\n",
      "Test set accuracy: 0.97\n",
      "Test set accuracy: 0.9666666666666667\n"
     ]
    },
    {
     "name": "stderr",
     "output_type": "stream",
     "text": [
      "/home/naufalsyahandra/anaconda3/lib/python3.12/site-packages/sklearn/ensemble/_weight_boosting.py:527: FutureWarning: The SAMME.R algorithm (the default) is deprecated and will be removed in 1.6. Use the SAMME algorithm to circumvent this warning.\n",
      "  warnings.warn(\n"
     ]
    }
   ],
   "execution_count": 16
  },
  {
   "metadata": {},
   "cell_type": "code",
   "outputs": [],
   "execution_count": null,
   "source": "",
   "id": "83cec3876227f7e0"
  }
 ],
 "metadata": {
  "kernelspec": {
   "display_name": "Python 3",
   "language": "python",
   "name": "python3"
  },
  "language_info": {
   "codemirror_mode": {
    "name": "ipython",
    "version": 2
   },
   "file_extension": ".py",
   "mimetype": "text/x-python",
   "name": "python",
   "nbconvert_exporter": "python",
   "pygments_lexer": "ipython2",
   "version": "2.7.6"
  }
 },
 "nbformat": 4,
 "nbformat_minor": 5
}
