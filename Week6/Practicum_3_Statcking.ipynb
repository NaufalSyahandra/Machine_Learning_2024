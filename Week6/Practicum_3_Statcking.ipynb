{
 "cells": [
  {
   "metadata": {},
   "cell_type": "markdown",
   "source": [
    "# Practicum - 3\n",
    "*--stackking--*"
   ],
   "id": "3bfb3cda6e16f6dc"
  },
  {
   "metadata": {},
   "cell_type": "markdown",
   "source": "## Stacking",
   "id": "29fd07f7d8552320"
  },
  {
   "cell_type": "code",
   "id": "initial_id",
   "metadata": {
    "collapsed": true,
    "ExecuteTime": {
     "end_time": "2024-10-03T08:40:06.949310Z",
     "start_time": "2024-10-03T08:40:05.371138Z"
    }
   },
   "source": [
    "from nbformat.sign import algorithms\n",
    "from sklearn.datasets import load_breast_cancer\n",
    "from sklearn.ensemble import RandomForestClassifier, StackingClassifier, AdaBoostClassifier\n",
    "from sklearn.linear_model import LogisticRegression\n",
    "from sklearn.model_selection import train_test_split\n",
    "from sklearn.neighbors import KNeighborsClassifier\n",
    "from sklearn.tree import DecisionTreeClassifier\n",
    "from sklearn.metrics import accuracy_score\n",
    "\n",
    "# Load dataset\n",
    "data = load_breast_cancer()\n",
    "X, y = data.data, data.target\n",
    "\n",
    "# Layer one estimators\n",
    "layer_one_estimators = [\n",
    "    ('rf_1', RandomForestClassifier(n_estimators=10, random_state=42)),\n",
    "    ('knn_1', KNeighborsClassifier(n_neighbors=5))\n",
    "]\n",
    "\n",
    "# Layer two estimators\n",
    "layer_two_estimators = [\n",
    "    ('dt_2', DecisionTreeClassifier()),\n",
    "    ('rf_2', RandomForestClassifier(n_estimators=50, random_state=42)),\n",
    "]\n",
    "\n",
    "# Layer two (final classifier)\n",
    "layer_two = StackingClassifier(estimators=layer_two_estimators, final_estimator=LogisticRegression())\n",
    "\n",
    "# Full stacking classifier\n",
    "clf = StackingClassifier(estimators=layer_one_estimators, final_estimator=layer_two)\n",
    "\n",
    "# Split data\n",
    "X_train, X_test, y_train, y_test = train_test_split(X, y, stratify=y, random_state=42)\n",
    "\n",
    "# Train and evaluate Random Forest\n",
    "rf = RandomForestClassifier(n_estimators=50, random_state=42)\n",
    "rf.fit(X_train, y_train)\n",
    "rf_accuracy = rf.score(X_test, y_test)\n",
    "\n",
    "# Train and evaluate Adaboost\n",
    "ada = AdaBoostClassifier(n_estimators=50, random_state=42)\n",
    "ada.fit(X_train, y_train)\n",
    "ada_accuracy = ada.score(X_test, y_test)\n",
    "\n",
    "# Train and evaluate Adaboost 2\n",
    "ada2 = AdaBoostClassifier(n_estimators=50, random_state=42, algorithm='SAMME')\n",
    "ada2.fit(X_train, y_train)\n",
    "ada2_accuracy = ada2.score(X_test, y_test)\n",
    "\n",
    "# Train and evaluate Stacking\n",
    "clf.fit(X_train, y_train)\n",
    "stacking_accuracy = clf.score(X_test, y_test)\n",
    "\n",
    "# Print results\n",
    "print(f\"Random Forest Accuracy: {rf_accuracy:.4f}\")\n",
    "print(f\"AdaBoost Accuracy (SAMME.R): {ada_accuracy:.4f}\")\n",
    "print(f\"AdaBoost Accuracy (SAMME): {ada2_accuracy:.4f}\")\n",
    "print(f\"Stacking Accuracy: {stacking_accuracy:.4f}\")\n"
   ],
   "outputs": [
    {
     "name": "stderr",
     "output_type": "stream",
     "text": [
      "/home/naufalsyahandra/anaconda3/lib/python3.12/site-packages/sklearn/ensemble/_weight_boosting.py:527: FutureWarning: The SAMME.R algorithm (the default) is deprecated and will be removed in 1.6. Use the SAMME algorithm to circumvent this warning.\n",
      "  warnings.warn(\n"
     ]
    },
    {
     "name": "stdout",
     "output_type": "stream",
     "text": [
      "Random Forest Accuracy: 0.9510\n",
      "AdaBoost Accuracy (SAMME.R): 0.9650\n",
      "AdaBoost Accuracy (SAMME): 0.9650\n",
      "Stacking Accuracy: 0.9441\n"
     ]
    }
   ],
   "execution_count": 6
  },
  {
   "metadata": {},
   "cell_type": "code",
   "outputs": [],
   "execution_count": null,
   "source": "",
   "id": "a3946dc76b9661e8"
  }
 ],
 "metadata": {
  "kernelspec": {
   "display_name": "Python 3",
   "language": "python",
   "name": "python3"
  },
  "language_info": {
   "codemirror_mode": {
    "name": "ipython",
    "version": 2
   },
   "file_extension": ".py",
   "mimetype": "text/x-python",
   "name": "python",
   "nbconvert_exporter": "python",
   "pygments_lexer": "ipython2",
   "version": "2.7.6"
  }
 },
 "nbformat": 4,
 "nbformat_minor": 5
}
