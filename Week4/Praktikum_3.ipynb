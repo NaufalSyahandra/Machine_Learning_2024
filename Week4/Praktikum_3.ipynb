{
 "cells": [
  {
   "metadata": {},
   "cell_type": "markdown",
   "source": [
    "# Practicum 3\n",
    "*naive bayes classification*"
   ],
   "id": "2cece7d89818a046"
  },
  {
   "metadata": {},
   "cell_type": "markdown",
   "source": [
    "## Theory\n",
    "Naive-Bayes is a classification algorithm based on Bayes' theorem. Bayes' theorem is a mathematical formula that calculates the probability of a hypothesis given the prior knowledge. The formula is as follows: \n",
    "**P(A/B) = (P(B|A) . P(A)) / P(B)**\n",
    "\n",
    "The naïve Bayes model is called \"naïve\" because it assumes that each feature is independent of each other. This assumption simplifies the calculation process and makes the model easier to implement. Also with this assumption, the model can still provide good results, especially for text classification and text filtering problems, but if one feature added, you had to calculate the probability of the label based on the new feature. So, the model can be updated continuously with new data, but you had calculate again the probability of the label based on the new feature. This is the disadvantage of the naive bayes model, but it is still widely used in text classification problems and text filtering.\n",
    "\n",
    "Where:\n",
    "* P(A|B) is the probability of event A given event B\n",
    "* P(B|A) is the probability of event B given event A\n",
    "* P(A) is the probability of event A\n",
    "* P(B) is the probability of event B\n",
    "* P(A|B) is the posterior probability\n",
    "* P(B|A) is the likelihood\n",
    "* P(A) is the prior probability\n",
    "* P(B) is the evidence\n",
    "* The denominator P(B) is the normalization constant\n",
    "* The denominator P(B) is the probability of event B"
   ],
   "id": "2f1fdf7b7dec5ecd"
  },
  {
   "metadata": {},
   "cell_type": "markdown",
   "source": [
    "## Create Dummy(syntetic) dataset"
   ],
   "id": "e84a98f8cb7e750b"
  },
  {
   "cell_type": "code",
   "id": "initial_id",
   "metadata": {
    "collapsed": true,
    "ExecuteTime": {
     "end_time": "2024-09-27T09:26:10.288420600Z",
     "start_time": "2024-09-27T09:26:10.183748400Z"
    }
   },
   "source": [
    "# Importing necessary libraries\n",
    "# make_classification is used to create synthetic dataset\n",
    "import numpy as np\n",
    "from sklearn.datasets import make_classification\n",
    "\n",
    "# Create a synthetic dataset\n",
    "# n_samples: number of samples\n",
    "# n_features: number of features\n",
    "# n_classes: number of classes\n",
    "# n_informative: number of informative features \n",
    "# , informative features are the features that actually influence the target variable\n",
    "# n_redundant: number of redundant features\n",
    "# ,redundant features are the features that are derived from the informative features and not had correlation with class\n",
    "# this usually done to increase the complexity of the dataset\n",
    "# n_repeated: number of duplicated features\n",
    "# , duplicated features are the features that are copied from the informative features\n",
    "# shuffle: shuffle the samples\n",
    "X, y = make_classification(n_samples=30, n_features=2, n_classes=2, n_informative=2, n_redundant=0, n_repeated=0, shuffle=False)\n",
    "\n",
    "# by default make_classification return float64 data type\n",
    "# convert to discrete value \n",
    "# absolute function is used to convert negative values to positive\n",
    "X = np.absolute(X)\n",
    "# round function is used to round the values to 2 decimal places\n",
    "# multiply by 100 to convert the values to percentage\n",
    "# so no more decimal points\n",
    "X = np.round(X, 2) * 100\n",
    "# convert the float64 to int\n",
    "X = X.astype(int)\n",
    "print(X)\n",
    "print(y)"
   ],
   "outputs": [
    {
     "name": "stdout",
     "output_type": "stream",
     "text": [
      "[[ 95  57]\n",
      " [103  87]\n",
      " [ 82 126]\n",
      " [ 79  74]\n",
      " [135 138]\n",
      " [ 53  84]\n",
      " [101  53]\n",
      " [ 95  78]\n",
      " [148  15]\n",
      " [162  73]\n",
      " [229  89]\n",
      " [305   9]\n",
      " [123  26]\n",
      " [224  78]\n",
      " [  5  53]\n",
      " [ 69  40]\n",
      " [160 252]\n",
      " [ 60  28]\n",
      " [ 87 252]\n",
      " [ 78  91]\n",
      " [ 64  69]\n",
      " [  1  87]\n",
      " [146 237]\n",
      " [195  37]\n",
      " [266  13]\n",
      " [168  48]\n",
      " [ 39 162]\n",
      " [200  44]\n",
      " [ 76 119]\n",
      " [270  52]]\n",
      "[0 0 0 0 0 0 0 0 1 1 1 1 1 1 1 1 0 0 0 0 0 0 0 1 1 1 1 1 1 1]\n"
     ]
    }
   ],
   "execution_count": 1
  },
  {
   "metadata": {},
   "cell_type": "markdown",
   "source": [
    "\n",
    "## Create DataFrame\n",
    "\n",
    "To make the data easier to read, we will create a DataFrame using the Pandas library based on dummy data that was created previously.\n"
   ],
   "id": "cfbf60cdeab82879"
  },
  {
   "metadata": {
    "ExecuteTime": {
     "end_time": "2024-09-27T09:26:10.301236900Z",
     "start_time": "2024-09-27T09:26:10.293408500Z"
    }
   },
   "cell_type": "code",
   "source": [
    "# Importing necessary libraries\n",
    "import pandas as pd\n",
    "\n",
    "# reshape label y to 2D array\n",
    "# this is done to concatenate the X and y\n",
    "y = y.reshape(len(y), 1)\n",
    "# concatenate X and y in column wise to create a single dataset\n",
    "data = np.concatenate((X, y), axis=1)\n",
    "# naming the columns\n",
    "columns = ['Feature 1', 'Feature 2', 'Label']\n",
    "# create a DataFrame\n",
    "df = pd.DataFrame(data, columns=columns)\n",
    "# display the first 5 rows of the DataFrame\n",
    "df.head()"
   ],
   "id": "2022c5af66447d4e",
   "outputs": [
    {
     "data": {
      "text/plain": "   Feature 1  Feature 2  Label\n0         95         57      0\n1        103         87      0\n2         82        126      0\n3         79         74      0\n4        135        138      0",
      "text/html": "<div>\n<style scoped>\n    .dataframe tbody tr th:only-of-type {\n        vertical-align: middle;\n    }\n\n    .dataframe tbody tr th {\n        vertical-align: top;\n    }\n\n    .dataframe thead th {\n        text-align: right;\n    }\n</style>\n<table border=\"1\" class=\"dataframe\">\n  <thead>\n    <tr style=\"text-align: right;\">\n      <th></th>\n      <th>Feature 1</th>\n      <th>Feature 2</th>\n      <th>Label</th>\n    </tr>\n  </thead>\n  <tbody>\n    <tr>\n      <th>0</th>\n      <td>95</td>\n      <td>57</td>\n      <td>0</td>\n    </tr>\n    <tr>\n      <th>1</th>\n      <td>103</td>\n      <td>87</td>\n      <td>0</td>\n    </tr>\n    <tr>\n      <th>2</th>\n      <td>82</td>\n      <td>126</td>\n      <td>0</td>\n    </tr>\n    <tr>\n      <th>3</th>\n      <td>79</td>\n      <td>74</td>\n      <td>0</td>\n    </tr>\n    <tr>\n      <th>4</th>\n      <td>135</td>\n      <td>138</td>\n      <td>0</td>\n    </tr>\n  </tbody>\n</table>\n</div>"
     },
     "execution_count": 2,
     "metadata": {},
     "output_type": "execute_result"
    }
   ],
   "execution_count": 2
  },
  {
   "metadata": {},
   "cell_type": "markdown",
   "source": [
    "## Convert Label to categorical"
   ],
   "id": "93b4356725221ac5"
  },
  {
   "metadata": {
    "ExecuteTime": {
     "end_time": "2024-09-27T09:26:10.308737Z",
     "start_time": "2024-09-27T09:26:10.301236900Z"
    }
   },
   "cell_type": "code",
   "source": [
    "#  before define label name, you can check the unique value of the label\n",
    "# df['Label'].unique()\n",
    "\n",
    "# define label name\n",
    "labels = {\n",
    "    0: 'Class B',\n",
    "    1: 'Class A'\n",
    "}\n",
    "\n",
    "# copy the original DataFrame to labeled DataFrame\n",
    "df_label = df.copy()\n",
    "# replace the label values with the label name above\n",
    "# using map() function in pandas\n",
    "df_label['Label'] = df_label['Label'].map(labels)\n",
    "\n",
    "# display the first 5 rows of the labeled DataFrame\n",
    "df_label.head()"
   ],
   "id": "3625965b71f2c781",
   "outputs": [
    {
     "data": {
      "text/plain": "   Feature 1  Feature 2    Label\n0         95         57  Class B\n1        103         87  Class B\n2         82        126  Class B\n3         79         74  Class B\n4        135        138  Class B",
      "text/html": "<div>\n<style scoped>\n    .dataframe tbody tr th:only-of-type {\n        vertical-align: middle;\n    }\n\n    .dataframe tbody tr th {\n        vertical-align: top;\n    }\n\n    .dataframe thead th {\n        text-align: right;\n    }\n</style>\n<table border=\"1\" class=\"dataframe\">\n  <thead>\n    <tr style=\"text-align: right;\">\n      <th></th>\n      <th>Feature 1</th>\n      <th>Feature 2</th>\n      <th>Label</th>\n    </tr>\n  </thead>\n  <tbody>\n    <tr>\n      <th>0</th>\n      <td>95</td>\n      <td>57</td>\n      <td>Class B</td>\n    </tr>\n    <tr>\n      <th>1</th>\n      <td>103</td>\n      <td>87</td>\n      <td>Class B</td>\n    </tr>\n    <tr>\n      <th>2</th>\n      <td>82</td>\n      <td>126</td>\n      <td>Class B</td>\n    </tr>\n    <tr>\n      <th>3</th>\n      <td>79</td>\n      <td>74</td>\n      <td>Class B</td>\n    </tr>\n    <tr>\n      <th>4</th>\n      <td>135</td>\n      <td>138</td>\n      <td>Class B</td>\n    </tr>\n  </tbody>\n</table>\n</div>"
     },
     "execution_count": 3,
     "metadata": {},
     "output_type": "execute_result"
    }
   ],
   "execution_count": 3
  },
  {
   "metadata": {},
   "cell_type": "markdown",
   "source": [
    "## Visualize the dataset"
   ],
   "id": "3dfc2413a27a31c0"
  },
  {
   "metadata": {
    "ExecuteTime": {
     "end_time": "2024-09-27T09:26:10.457064400Z",
     "start_time": "2024-09-27T09:26:10.311701500Z"
    }
   },
   "cell_type": "code",
   "source": [
    "# Importing necessary libraries\n",
    "import matplotlib.pyplot as plt\n",
    "\n",
    "# define the colors for each class\n",
    "colors = {\n",
    "    'class_a': 'MediumVioletRed',\n",
    "    'class_b': 'Navy'\n",
    "}\n",
    "# group the data based on the label\n",
    "grouped = df_label.groupby('Label')\n",
    "class_a = grouped.get_group('Class A')\n",
    "class_b = grouped.get_group('Class B')\n",
    "\n",
    "# plot the data\n",
    "plt.scatter(x=class_a['Feature 1'], y=class_a['Feature 2'], color=colors['class_a'], )\n",
    "plt.scatter(x=class_b['Feature 1'], y=class_b['Feature 2'], color=colors['class_b'], label='Feature 2')\n",
    "plt.xlabel('Feature 1')\n",
    "plt.ylabel('Feature 2')\n",
    "plt.legend(['Class A', 'Class B'], loc='upper left')\n",
    "plt.gca().axes.xaxis.set_ticklabels([])\n",
    "plt.gca().axes.yaxis.set_ticklabels([])\n",
    "plt.show()"
   ],
   "id": "62997cae33505427",
   "outputs": [
    {
     "data": {
      "text/plain": "<Figure size 640x480 with 1 Axes>",
      "image/png": "[encoded data removed]"
     },
     "metadata": {},
     "output_type": "display_data"
    }
   ],
   "execution_count": 4
  },
  {
   "metadata": {},
   "cell_type": "markdown",
   "source": [
    "\n",
    "## Multinomial Naive-Bayes Classification\n",
    "\n",
    "Theory:\n",
    "* Multinomial Naive-Bayes is a variant of the Naive-Bayes algorithm that is used for classification tasks.\n",
    "* It is suitable for classification tasks with discrete features (e.g., word counts for text classification).\n",
    "* The Multinomial Naive-Bayes model is based on the assumption that the features are generated from a simple multinomial distribution\n",
    "* multinomial distribution is a generalization of the binomial distribution to more than two categories, where each feature represents the frequency of a term in a document, means the frequency of a word in a text, like in our example, the frequency of the word \"win\" in a spam email or the frequency of the word \"meeting\" in a non-spam email.\n",
    "* The model calculates the probability of each label based on the probability of each feature for that label.\n",
    "* The label with the highest probability is the predicted label for the input data.\n",
    "* The Multinomial Naive-Bayes model is widely used in text classification tasks, such as spam detection and sentiment analysis."
   ],
   "id": "f10acc99dade62f7"
  },
  {
   "metadata": {
    "ExecuteTime": {
     "end_time": "2024-09-27T09:26:10.473890300Z",
     "start_time": "2024-09-27T09:26:10.430477900Z"
    }
   },
   "cell_type": "code",
   "source": [
    "# Importing necessary libraries\n",
    "from sklearn.naive_bayes import MultinomialNB\n",
    "from sklearn.model_selection import train_test_split\n",
    "from sklearn.metrics import accuracy_score\n",
    "\n",
    "# initiate object Multinomial Naive-Bayes\n",
    "mnb = MultinomialNB()\n",
    "\n",
    "# convert the label to 1D array\n",
    "y = y.ravel()\n",
    "\n",
    "# Use the synthetic dataset that was created previously\n",
    "# X: features dataset (Feature 1 and Feature 2)\n",
    "# y: label dataset (Class A and Class B)\n",
    "# split the data into training and testing set\n",
    "# test_size: the proportion of the dataset to include in the test split\n",
    "X_train, X_test, y_train, y_test = train_test_split(X, y, test_size=0.3, random_state=30)\n",
    "\n",
    "# train or fit the model\n",
    "mnb.fit(X_train, y_train)\n",
    "\n",
    "# predict the label of the training set\n",
    "y_train_pred = mnb.predict(X_train)\n",
    "# evaluate the accuracy of the model\n",
    "train_accuracy = accuracy_score(y_train, y_train_pred)\n",
    "\n",
    "# predict the label of the testing set\n",
    "y_test_pred = mnb.predict(X_test)\n",
    "# evaluate the accuracy of the model\n",
    "test_accuracy = accuracy_score(y_test, y_test_pred)\n",
    "\n",
    "# display the accuracy of the model\n",
    "print(f'Training Accuracy: {train_accuracy}')\n",
    "print(f'Testing Accuracy: {test_accuracy}')"
   ],
   "id": "76dad04a8d7f746",
   "outputs": [
    {
     "name": "stdout",
     "output_type": "stream",
     "text": [
      "Training Accuracy: 0.9047619047619048\n",
      "Testing Accuracy: 0.5555555555555556\n"
     ]
    }
   ],
   "execution_count": 5
  },
  {
   "metadata": {},
   "cell_type": "markdown",
   "source": [
    "### Visualize The Result of Classification"
   ],
   "id": "bfbecc8bfd2938a2"
  },
  {
   "metadata": {
    "ExecuteTime": {
     "end_time": "2024-09-27T09:26:10.680969700Z",
     "start_time": "2024-09-27T09:26:10.475883500Z"
    }
   },
   "cell_type": "code",
   "source": [
    "from matplotlib.colors import ListedColormap\n",
    "# Importing necessary libraries\n",
    "import numpy as np\n",
    "import matplotlib.pyplot as plt\n",
    "from sklearn.preprocessing import LabelEncoder\n",
    "\n",
    "# define the colors for each class\n",
    "colors = {\n",
    "    'class_a': 'MediumVioletRed',\n",
    "    'class_b': 'Navy'\n",
    "}\n",
    "\n",
    "# define the label encoder\n",
    "le = LabelEncoder()\n",
    "# fit and transform the label to the encoded label\n",
    "y_encoded = le.fit_transform(y)\n",
    "\n",
    "# define the step size for the mesh grid\n",
    "h = 1\n",
    "# create the mesh grid\n",
    "x_min, x_max = X[:, 0].min() - 1, X[:, 0].max() + 1\n",
    "y_min, y_max = X[:, 1].min() - 1, X[:, 1].max() + 1\n",
    "xx, yy = np.meshgrid(np.arange(x_min, x_max, h), np.arange(y_min, y_max, h))\n",
    "\n",
    "# predict the label of the mesh grid\n",
    "Z = mnb.predict(np.c_[xx.ravel(), yy.ravel()])\n",
    "Z = Z.reshape(xx.shape)\n",
    "\n",
    "# plot the decision boundary\n",
    "plt.contourf(xx, yy, Z, alpha=0.3, cmap=ListedColormap([colors['class_b'], colors['class_a']]))\n",
    "# plot the data points\n",
    "plt.scatter(x=class_a['Feature 1'], y=class_a['Feature 2'], color=colors['class_a'])\n",
    "plt.scatter(x=class_b['Feature 1'], y=class_b['Feature 2'], color=colors['class_b'])\n",
    "\n",
    "# set the labels and title\n",
    "plt.xlabel('Feature 1')\n",
    "plt.ylabel('Feature 2')\n",
    "plt.title('Multinomial Naive-Bayes Classification')\n",
    "plt.legend(['Class A', 'Class B'], loc='upper left')\n",
    "plt.show()"
   ],
   "id": "939af9b5aa950239",
   "outputs": [
    {
     "data": {
      "text/plain": "<Figure size 640x480 with 1 Axes>",
      "image/png": "[encoded data removed]"
     },
     "metadata": {},
     "output_type": "display_data"
    }
   ],
   "execution_count": 6
  },
  {
   "metadata": {},
   "cell_type": "markdown",
   "source": [
    "\n",
    "## Gaussian Naive-Bayes Classfification\n",
    "\n",
    "Theory:\n",
    "* Gaussian Naive-Bayes is a variant of the Naive-Bayes algorithm that is used for classification tasks.\n",
    "* It is suitable for classification tasks with continuous features (e.g., real-valued features).\n",
    "* The Gaussian Naive-Bayes model is based on the assumption that the features are generated from a simple Gaussian distribution.\n",
    "* The model calculates the probability of each label based on the probability of each feature for that label.\n",
    "* The label with the highest probability is the predicted label for the input data.\n",
    "* The model can be updated continuously with new data, making it suitable for real-time applications.\n",
    "* The Gaussian Naive-Bayes model is robust to noise and can handle missing values in the dataset.\n",
    "* The model is suitable for large datasets and can provide good results even with limited training data.\n",
    "* Disadvantages of the Gaussian Naive-Bayes model include the assumption of feature independence, which may not hold in some cases, and the model's sensitivity to the distribution of the data.\n",
    "* The model may not perform well with highly correlated features or features with complex relationships.\n",
    "* The Gaussian Naive-Bayes model is widely used in classification tasks with continuous features, such as medical diagnosis and image recognition."
   ],
   "id": "35879ce08087e2dc"
  },
  {
   "metadata": {
    "ExecuteTime": {
     "end_time": "2024-09-27T09:26:10.689440700Z",
     "start_time": "2024-09-27T09:26:10.682968700Z"
    }
   },
   "cell_type": "code",
   "source": [
    "# Importing necessary libraries\n",
    "from sklearn.naive_bayes import GaussianNB\n",
    "\n",
    "# initiate object Gaussian Naive-Bayes\n",
    "gnb = GaussianNB()\n",
    "\n",
    "# Use the synthetic dataset that was created previously\n",
    "# and Use the same training and testing set that was created previously\n",
    "# train or fit the model\n",
    "gnb.fit(X_train, y_train)\n",
    "\n",
    "# predict the label of the training set\n",
    "y_train_pred_gnb = gnb.predict(X_train)\n",
    "# evaluate the accuracy of the model\n",
    "train_accuracy_gnb = accuracy_score(y_train, y_train_pred_gnb)\n",
    "\n",
    "# predict the label of the testing set\n",
    "y_test_pred_gnb = gnb.predict(X_test)\n",
    "# evaluate the accuracy of the model\n",
    "test_accuracy_gnb = accuracy_score(y_test, y_test_pred_gnb)\n",
    "\n",
    "# display the accuracy of the model\n",
    "print(f'Training Accuracy: {train_accuracy_gnb}')\n",
    "print(f'Testing Accuracy: {test_accuracy_gnb}')"
   ],
   "id": "f67de596327e6c27",
   "outputs": [
    {
     "name": "stdout",
     "output_type": "stream",
     "text": [
      "Training Accuracy: 1.0\n",
      "Testing Accuracy: 0.6666666666666666\n"
     ]
    }
   ],
   "execution_count": 7
  },
  {
   "metadata": {},
   "cell_type": "markdown",
   "source": [
    "### Visualize The Result of Classification"
   ],
   "id": "fdb8c34d4659f645"
  },
  {
   "metadata": {
    "ExecuteTime": {
     "end_time": "2024-09-27T09:26:10.845187Z",
     "start_time": "2024-09-27T09:26:10.688443700Z"
    }
   },
   "cell_type": "code",
   "source": [
    "# define the colors for each class\n",
    "colors = {\n",
    "    'class_a': 'MediumVioletRed',\n",
    "    'class_b': 'Navy'\n",
    "}\n",
    "\n",
    "# define the step size for the mesh grid\n",
    "h = 1\n",
    "# create the mesh grid\n",
    "x_min, x_max = X[:, 0].min() - 1, X[:, 0].max() + 1\n",
    "y_min, y_max = X[:, 1].min() - 1, X[:, 1].max() + 1\n",
    "xx, yy = np.meshgrid(np.arange(x_min, x_max, h), np.arange(y_min, y_max, h))\n",
    "\n",
    "# predict the label of the mesh grid\n",
    "Z = gnb.predict(np.c_[xx.ravel(), yy.ravel()])\n",
    "Z = Z.reshape(xx.shape)\n",
    "\n",
    "# plot the decision boundary\n",
    "plt.contourf(xx, yy, Z, alpha=0.3, cmap=ListedColormap([colors['class_b'], colors['class_a']]))\n",
    "# plot the data points\n",
    "plt.scatter(x=class_a['Feature 1'], y=class_a['Feature 2'], color=colors['class_a'])\n",
    "plt.scatter(x=class_b['Feature 1'], y=class_b['Feature 2'], color=colors['class_b'])\n",
    "\n",
    "# set the labels and title\n",
    "plt.xlabel('Feature 1')\n",
    "plt.ylabel('Feature 2')\n",
    "plt.title('Gaussian Naive-Bayes Classification')\n",
    "plt.legend(['Class A', 'Class B'], loc='upper left')\n",
    "plt.show()"
   ],
   "id": "720855b307910c94",
   "outputs": [
    {
     "data": {
      "text/plain": "<Figure size 640x480 with 1 Axes>",
      "image/png": "[encoded data removed]"
     },
     "metadata": {},
     "output_type": "display_data"
    }
   ],
   "execution_count": 8
  },
  {
   "metadata": {
    "ExecuteTime": {
     "end_time": "2024-09-27T09:26:10.845187Z",
     "start_time": "2024-09-27T09:26:10.839666600Z"
    }
   },
   "cell_type": "code",
   "outputs": [],
   "execution_count": 8,
   "source": [],
   "id": "5a7cf874b8042eaa"
  }
 ],
 "metadata": {
  "kernelspec": {
   "display_name": "Python 3",
   "language": "python",
   "name": "python3"
  },
  "language_info": {
   "codemirror_mode": {
    "name": "ipython",
    "version": 2
   },
   "file_extension": ".py",
   "mimetype": "text/x-python",
   "name": "python",
   "nbconvert_exporter": "python",
   "pygments_lexer": "ipython2",
   "version": "2.7.6"
  }
 },
 "nbformat": 4,
 "nbformat_minor": 5
}
