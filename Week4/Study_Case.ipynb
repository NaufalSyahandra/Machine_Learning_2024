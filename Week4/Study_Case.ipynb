{
 "cells": [
  {
   "metadata": {},
   "cell_type": "markdown",
   "source": [
    "# Study Case\n",
    "\n",
    "Create a classification model using SVM based on the data in day_night_image_classification code using the histogram feature."
   ],
   "id": "cd657207a42db1a4"
  },
  {
   "metadata": {},
   "cell_type": "markdown",
   "source": [
    "## Import Library"
   ],
   "id": "e5fc38edbb43d9f2"
  },
  {
   "cell_type": "code",
   "id": "initial_id",
   "metadata": {
    "collapsed": true,
    "ExecuteTime": {
     "end_time": "2024-09-27T09:37:28.771943800Z",
     "start_time": "2024-09-27T09:37:27.573457300Z"
    }
   },
   "source": [
    "import cv2\n",
    "import numpy as np\n",
    "from sklearn.metrics import accuracy_score\n",
    "import os\n"
   ],
   "outputs": [],
   "execution_count": 1
  },
  {
   "metadata": {},
   "cell_type": "markdown",
   "source": [
    "## Path to Images Directory"
   ],
   "id": "61f57c6d8b3fe49f"
  },
  {
   "metadata": {
    "ExecuteTime": {
     "end_time": "2024-09-27T09:37:28.778860700Z",
     "start_time": "2024-09-27T09:37:28.772940700Z"
    }
   },
   "cell_type": "code",
   "source": [
    "# Path to training and test images\n",
    "train_dir = 'Data/images/training/'\n",
    "test_dir = 'Data/images/test/'\n"
   ],
   "id": "93d276c7112d583a",
   "outputs": [],
   "execution_count": 2
  },
  {
   "metadata": {},
   "cell_type": "markdown",
   "source": [
    "## Create functions for Histogram and Standardize images"
   ],
   "id": "c7a86099cfa1a974"
  },
  {
   "metadata": {
    "ExecuteTime": {
     "end_time": "2024-09-27T09:37:28.780869500Z",
     "start_time": "2024-09-27T09:37:28.777543600Z"
    }
   },
   "cell_type": "code",
   "source": [
    "def compute_histogram(image):\n",
    "    # Convert the image to HSV\n",
    "    hsv = cv2.cvtColor(image, cv2.COLOR_RGB2HSV)\n",
    "    \n",
    "    # Compute the histogram (16 bins for each channel)\n",
    "    hist = cv2.calcHist([hsv], [0, 1, 2], None, [16, 16, 16], [0, 180, 0, 256, 0, 256])\n",
    "    \n",
    "    # Normalize the histogram\n",
    "    cv2.normalize(hist, hist)\n",
    "    \n",
    "    # Flatten the histogram to create the feature vector\n",
    "    return hist.flatten()\n",
    "\n",
    "def standarized_input(image):\n",
    "    # resize to w: 1100, h:600\n",
    "    std_img = cv2.resize(image, (1100,600))\n",
    "\n",
    "    return std_img"
   ],
   "id": "f6d1cb432259c9ba",
   "outputs": [],
   "execution_count": 3
  },
  {
   "metadata": {},
   "cell_type": "markdown",
   "source": [
    "## Create function to load Images and Labes"
   ],
   "id": "63c3aa75d04d5091"
  },
  {
   "metadata": {
    "ExecuteTime": {
     "end_time": "2024-09-27T09:37:28.786742Z",
     "start_time": "2024-09-27T09:37:28.781866800Z"
    }
   },
   "cell_type": "code",
   "source": [
    "def load_histogram_std_img(directory):\n",
    "    data = []\n",
    "    labels = []\n",
    "    \n",
    "    for label in ['day', 'night']:\n",
    "        path = os.path.join(directory, label)\n",
    "        for filename in os.listdir(path):\n",
    "            if filename.endswith('.jpg') or filename.endswith('.png'):\n",
    "                img_path = os.path.join(path, filename)\n",
    "                \n",
    "                # Read and resize the image\n",
    "                image = cv2.imread(img_path)\n",
    "                resized_image = standarized_input(image)\n",
    "                \n",
    "                # Compute histogram features\n",
    "                hist = compute_histogram(resized_image)\n",
    "                \n",
    "                # Append features and label\n",
    "                data.append(hist)\n",
    "                labels.append(0 if label == 'night' else 1)  # 0 for night, 1 for day\n",
    "                \n",
    "    return np.array(data), np.array(labels)"
   ],
   "id": "dd7beb599905039d",
   "outputs": [],
   "execution_count": 4
  },
  {
   "metadata": {},
   "cell_type": "markdown",
   "source": [
    "## Load Training and Test Data\n"
   ],
   "id": "13ae58f7397c8758"
  },
  {
   "metadata": {
    "ExecuteTime": {
     "end_time": "2024-09-27T09:37:31.266633Z",
     "start_time": "2024-09-27T09:37:28.785750500Z"
    }
   },
   "cell_type": "code",
   "source": [
    "X_train, y_train = load_histogram_std_img(train_dir)\n",
    "X_test, y_test = load_histogram_std_img(test_dir)\n",
    "\n",
    "# show the shape of the data\n",
    "print(f'Training data shape: {X_train.shape}')\n",
    "print(f'Test data shape: {X_test.shape}')"
   ],
   "id": "1d3dc2ee55f815ff",
   "outputs": [
    {
     "name": "stdout",
     "output_type": "stream",
     "text": [
      "Training data shape: (240, 4096)\n",
      "Test data shape: (160, 4096)\n"
     ]
    }
   ],
   "execution_count": 5
  },
  {
   "metadata": {},
   "cell_type": "markdown",
   "source": [
    "## Grid Search for Hyperparameter Tuning"
   ],
   "id": "bcebad9c24d9b5a9"
  },
  {
   "metadata": {
    "ExecuteTime": {
     "end_time": "2024-09-27T09:37:33.345157500Z",
     "start_time": "2024-09-27T09:37:31.267632500Z"
    }
   },
   "cell_type": "code",
   "source": [
    "from sklearn import svm\n",
    "from sklearn.pipeline import Pipeline\n",
    "from sklearn.decomposition import PCA\n",
    "from sklearn.model_selection import GridSearchCV\n",
    "\n",
    "# Create a pipeline with PCA and SVM\n",
    "pipe = Pipeline(steps=[\n",
    "    ('pca', PCA()),\n",
    "    ('svm', svm.SVC())\n",
    "])\n",
    "\n",
    "# Define the parameter grid for GridSearch\n",
    "param_grid = {\n",
    "    'pca__n_components': [10, 20, 30, 50],  # Number of PCA components\n",
    "    'svm__C': [0.1, 1, 10],                 # Regularization parameter for SVM\n",
    "    'svm__kernel': ['linear', 'rbf']         # Kernel types\n",
    "}\n",
    "\n",
    "# Initialize GridSearchCV\n",
    "grid_search = GridSearchCV(pipe, param_grid, cv=5, scoring='accuracy')\n",
    "\n",
    "# Fit the model on training data\n",
    "grid_search.fit(X_train, y_train)\n",
    "print(grid_search.best_params_)\n",
    "print(grid_search.best_score_)"
   ],
   "id": "b4ca989482faca56",
   "outputs": [
    {
     "name": "stdout",
     "output_type": "stream",
     "text": [
      "{'pca__n_components': 50, 'svm__C': 10, 'svm__kernel': 'linear'}\n",
      "0.975\n"
     ]
    }
   ],
   "execution_count": 6
  },
  {
   "metadata": {},
   "cell_type": "markdown",
   "source": [
    "## Evaluate the Model"
   ],
   "id": "ad3a1cc215f93882"
  },
  {
   "metadata": {
    "ExecuteTime": {
     "end_time": "2024-09-27T09:37:33.354145700Z",
     "start_time": "2024-09-27T09:37:33.347155500Z"
    }
   },
   "cell_type": "code",
   "source": [
    "# Get the best model from GridSearch\n",
    "best_model = grid_search.best_estimator_\n",
    "\n",
    "# Predict on train data\n",
    "train_predictions = best_model.predict(X_train)\n",
    "# Predict on test data\n",
    "test_predictions = best_model.predict(X_test)\n",
    "\n",
    "# Evaluate accuracy\n",
    "train_accuracy = accuracy_score(y_train, train_predictions)\n",
    "print(f\"Train Accuracy: {train_accuracy * 100:.4f}%\")\n",
    "\n",
    "test_accuracy = accuracy_score(y_test, test_predictions)\n",
    "print(f\"Test Accuracy: {test_accuracy * 100:.4f}%\")\n"
   ],
   "id": "4be42c865313fc13",
   "outputs": [
    {
     "name": "stdout",
     "output_type": "stream",
     "text": [
      "Train Accuracy: 100.0000%\n",
      "Test Accuracy: 98.7500%\n"
     ]
    }
   ],
   "execution_count": 7
  }
 ],
 "metadata": {
  "kernelspec": {
   "display_name": "Python 3",
   "language": "python",
   "name": "python3"
  },
  "language_info": {
   "codemirror_mode": {
    "name": "ipython",
    "version": 2
   },
   "file_extension": ".py",
   "mimetype": "text/x-python",
   "name": "python",
   "nbconvert_exporter": "python",
   "pygments_lexer": "ipython2",
   "version": "2.7.6"
  }
 },
 "nbformat": 4,
 "nbformat_minor": 5
}
