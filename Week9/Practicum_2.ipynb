{
 "cells": [
  {
   "metadata": {},
   "cell_type": "markdown",
   "source": [
    "# **Practicum - 2**\n",
    "---\n",
    "*News Classification with Perceptron*"
   ],
   "id": "31dfda090953e40e"
  },
  {
   "metadata": {},
   "cell_type": "markdown",
   "source": "## **Import Libraries**",
   "id": "828a5cfc52f64e56"
  },
  {
   "cell_type": "code",
   "id": "initial_id",
   "metadata": {
    "collapsed": true,
    "ExecuteTime": {
     "end_time": "2024-10-17T06:39:28.240938Z",
     "start_time": "2024-10-17T06:39:27.871788Z"
    }
   },
   "source": [
    "from sklearn.datasets import fetch_20newsgroups  # download dataset\n",
    "from sklearn.feature_extraction.text import TfidfVectorizer\n",
    "from sklearn.linear_model import Perceptron\n",
    "from sklearn.metrics import f1_score, classification_report"
   ],
   "outputs": [],
   "execution_count": 1
  },
  {
   "metadata": {},
   "cell_type": "markdown",
   "source": "## **Select Labels and Split Data**",
   "id": "6bb6bb8ec80e4502"
  },
  {
   "metadata": {
    "ExecuteTime": {
     "end_time": "2024-10-17T06:41:20.965498Z",
     "start_time": "2024-10-17T06:39:49.617852Z"
    }
   },
   "cell_type": "code",
   "source": [
    "categories = ['rec.sport.hockey', 'rec.sport.baseball', 'rec.autos']\n",
    "newsgroups_train = fetch_20newsgroups(subset='train', categories=categories, remove=('headers', 'footers', 'quotes'))\n",
    "newsgroups_test = fetch_20newsgroups(subset='test', categories=categories, remove=('headers', 'footers', 'quotes'))"
   ],
   "id": "f8bc24a0ac584e93",
   "outputs": [],
   "execution_count": 2
  },
  {
   "metadata": {},
   "cell_type": "markdown",
   "source": "## **Extract Features and Create Perceptron Model**",
   "id": "37376c79f63978d6"
  },
  {
   "metadata": {
    "ExecuteTime": {
     "end_time": "2024-10-17T06:41:28.649899Z",
     "start_time": "2024-10-17T06:41:28.164209Z"
    }
   },
   "cell_type": "code",
   "source": [
    "# Extract Features\n",
    "vectorizer = TfidfVectorizer()\n",
    "\n",
    "# Fit features\n",
    "X_train = vectorizer.fit_transform(newsgroups_train.data)\n",
    "X_test = vectorizer.transform(newsgroups_test.data)\n",
    "\n",
    "# Fit Model\n",
    "clf = Perceptron(random_state=11)\n",
    "clf.fit(X_train, newsgroups_train.target)\n",
    "\n",
    "# Predict\n",
    "predictions = clf.predict(X_test)\n",
    "print(classification_report(newsgroups_test.target, predictions))"
   ],
   "id": "c4ad1ea09c46eb33",
   "outputs": [
    {
     "name": "stdout",
     "output_type": "stream",
     "text": [
      "              precision    recall  f1-score   support\n",
      "\n",
      "           0       0.88      0.88      0.88       396\n",
      "           1       0.82      0.83      0.83       397\n",
      "           2       0.88      0.87      0.87       399\n",
      "\n",
      "    accuracy                           0.86      1192\n",
      "   macro avg       0.86      0.86      0.86      1192\n",
      "weighted avg       0.86      0.86      0.86      1192\n",
      "\n"
     ]
    }
   ],
   "execution_count": 3
  }
 ],
 "metadata": {
  "kernelspec": {
   "display_name": "Python 3",
   "language": "python",
   "name": "python3"
  },
  "language_info": {
   "codemirror_mode": {
    "name": "ipython",
    "version": 2
   },
   "file_extension": ".py",
   "mimetype": "text/x-python",
   "name": "python",
   "nbconvert_exporter": "python",
   "pygments_lexer": "ipython2",
   "version": "2.7.6"
  }
 },
 "nbformat": 4,
 "nbformat_minor": 5
}
