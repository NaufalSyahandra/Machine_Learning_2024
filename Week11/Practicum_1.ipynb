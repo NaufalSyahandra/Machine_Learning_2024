{
 "cells": [
  {
   "metadata": {},
   "cell_type": "markdown",
   "source": [
    "# **Practicum - 1**\n",
    "---\n",
    "*Classification of Dogs and Cats*"
   ],
   "id": "5250122302b0ab51"
  },
  {
   "metadata": {},
   "cell_type": "markdown",
   "source": "## Import Library",
   "id": "a891d10d347f2deb"
  },
  {
   "cell_type": "code",
   "id": "initial_id",
   "metadata": {
    "collapsed": true,
    "ExecuteTime": {
     "end_time": "2024-11-13T11:35:46.395805Z",
     "start_time": "2024-11-13T11:35:46.390877Z"
    }
   },
   "source": [
    "import tensorflow as tf\n",
    "TF_ENABLE_ONEDNN_OPTS=2\n",
    "from tensorflow.keras.preprocessing.image import ImageDataGenerator"
   ],
   "outputs": [],
   "execution_count": 13
  },
  {
   "metadata": {},
   "cell_type": "markdown",
   "source": "## Data Preprocessing",
   "id": "ec0b32359e2cb987"
  },
  {
   "metadata": {},
   "cell_type": "markdown",
   "source": "### Preprocessing the Training set",
   "id": "c8171a0a7ac2aad7"
  },
  {
   "metadata": {
    "ExecuteTime": {
     "end_time": "2024-11-13T11:35:47.540543Z",
     "start_time": "2024-11-13T11:35:47.286299Z"
    }
   },
   "cell_type": "code",
   "source": [
    "train_datagen = ImageDataGenerator(rescale = 1./255,\n",
    "                                   shear_range = 0.2,\n",
    "                                   zoom_range = 0.2,\n",
    "                                   horizontal_flip = True)\n",
    "training_set = train_datagen.flow_from_directory('dataset/dataset/training_set',\n",
    "                                                 target_size = (64, 64),\n",
    "                                                 batch_size = 32,\n",
    "                                                 class_mode = 'binary')"
   ],
   "id": "a4796073b039cb50",
   "outputs": [
    {
     "name": "stdout",
     "output_type": "stream",
     "text": [
      "Found 8000 images belonging to 2 classes.\n"
     ]
    }
   ],
   "execution_count": 14
  },
  {
   "metadata": {},
   "cell_type": "markdown",
   "source": "### Preprocessing the Test set",
   "id": "8c196a8c41a7aa48"
  },
  {
   "metadata": {
    "ExecuteTime": {
     "end_time": "2024-11-13T11:35:48.268396Z",
     "start_time": "2024-11-13T11:35:48.192719Z"
    }
   },
   "cell_type": "code",
   "source": [
    "test_datagen = ImageDataGenerator(rescale = 1./255)\n",
    "test_set = test_datagen.flow_from_directory('dataset/dataset/test_set',\n",
    "                                            target_size = (64, 64),\n",
    "                                            batch_size = 32,\n",
    "                                            class_mode = 'binary')"
   ],
   "id": "d1628ebf373e5438",
   "outputs": [
    {
     "name": "stdout",
     "output_type": "stream",
     "text": [
      "Found 2000 images belonging to 2 classes.\n"
     ]
    }
   ],
   "execution_count": 15
  },
  {
   "metadata": {},
   "cell_type": "markdown",
   "source": "## Building the CNN",
   "id": "9ffd27e047b26880"
  },
  {
   "metadata": {},
   "cell_type": "markdown",
   "source": "### Initialising the CNN",
   "id": "22b0c36f20c8c269"
  },
  {
   "metadata": {
    "ExecuteTime": {
     "end_time": "2024-11-13T11:35:49.871499Z",
     "start_time": "2024-11-13T11:35:49.866445Z"
    }
   },
   "cell_type": "code",
   "source": "cnn = tf.keras.models.Sequential()",
   "id": "377cc3c091fa67a9",
   "outputs": [],
   "execution_count": 16
  },
  {
   "metadata": {},
   "cell_type": "markdown",
   "source": "### Creating the Pooling Layer",
   "id": "99d2be694f38e56b"
  },
  {
   "metadata": {
    "ExecuteTime": {
     "end_time": "2024-11-13T11:35:50.910846Z",
     "start_time": "2024-11-13T11:35:50.904841Z"
    }
   },
   "cell_type": "code",
   "source": "cnn.add(tf.keras.layers.MaxPool2D(pool_size=2, strides=2))",
   "id": "ef97c91fa56e466f",
   "outputs": [],
   "execution_count": 17
  },
  {
   "metadata": {},
   "cell_type": "markdown",
   "source": "### Convolution and Polling Layer 2",
   "id": "feddcd1ef84a4e74"
  },
  {
   "metadata": {
    "ExecuteTime": {
     "end_time": "2024-11-13T11:35:51.778484Z",
     "start_time": "2024-11-13T11:35:51.771793Z"
    }
   },
   "cell_type": "code",
   "source": [
    "cnn.add(tf.keras.layers.Conv2D(filters=32, kernel_size=3, activation='relu'))\n",
    "cnn.add(tf.keras.layers.MaxPool2D(pool_size=2, strides=2))"
   ],
   "id": "6e144d8a3d80dad3",
   "outputs": [],
   "execution_count": 18
  },
  {
   "metadata": {},
   "cell_type": "markdown",
   "source": "### Flattening",
   "id": "b922685b1ed4e561"
  },
  {
   "metadata": {
    "ExecuteTime": {
     "end_time": "2024-11-13T11:35:52.562610Z",
     "start_time": "2024-11-13T11:35:52.556667Z"
    }
   },
   "cell_type": "code",
   "source": "cnn.add(tf.keras.layers.Flatten())",
   "id": "8c04fc200a8e51ce",
   "outputs": [],
   "execution_count": 19
  },
  {
   "metadata": {},
   "cell_type": "markdown",
   "source": "### Fully Connected Layer 1 (Input)",
   "id": "acb951b91cfd90cb"
  },
  {
   "metadata": {
    "ExecuteTime": {
     "end_time": "2024-11-13T11:35:53.435445Z",
     "start_time": "2024-11-13T11:35:53.429314Z"
    }
   },
   "cell_type": "code",
   "source": "cnn.add(tf.keras.layers.Dense(units=128, activation='relu'))",
   "id": "c017fb1967fe1fd7",
   "outputs": [],
   "execution_count": 20
  },
  {
   "metadata": {},
   "cell_type": "markdown",
   "source": "### Fully Connected Layer 2 (Output)",
   "id": "3008648a578ea438"
  },
  {
   "metadata": {
    "ExecuteTime": {
     "end_time": "2024-11-13T11:35:54.456976Z",
     "start_time": "2024-11-13T11:35:54.450975Z"
    }
   },
   "cell_type": "code",
   "source": "cnn.add(tf.keras.layers.Dense(units=1, activation='sigmoid'))",
   "id": "775ef8bc1a2400d4",
   "outputs": [],
   "execution_count": 21
  },
  {
   "metadata": {},
   "cell_type": "markdown",
   "source": "### Compiling the CNN",
   "id": "9a510b548747ad6"
  },
  {
   "metadata": {
    "ExecuteTime": {
     "end_time": "2024-11-13T11:35:55.616185Z",
     "start_time": "2024-11-13T11:35:55.596428Z"
    }
   },
   "cell_type": "code",
   "source": "cnn.compile(optimizer = 'adam', loss = 'binary_crossentropy', metrics = ['accuracy'])",
   "id": "d05fae2eab6b0be0",
   "outputs": [],
   "execution_count": 22
  },
  {
   "metadata": {},
   "cell_type": "markdown",
   "source": "## Fitting the CNN to the images",
   "id": "b0ad5d46f249d40e"
  },
  {
   "metadata": {
    "ExecuteTime": {
     "end_time": "2024-11-13T11:56:24.819138Z",
     "start_time": "2024-11-13T11:36:26.710700Z"
    }
   },
   "cell_type": "code",
   "source": "cnn.fit(x = training_set, validation_data = test_set, epochs = 25)",
   "id": "690b6c2b2b33dba8",
   "outputs": [
    {
     "name": "stderr",
     "output_type": "stream",
     "text": [
      "/home/naufalsyahandra/anaconda3/lib/python3.12/site-packages/keras/src/trainers/data_adapters/py_dataset_adapter.py:121: UserWarning: Your `PyDataset` class should call `super().__init__(**kwargs)` in its constructor. `**kwargs` can include `workers`, `use_multiprocessing`, `max_queue_size`. Do not pass these arguments to `fit()`, as they will be ignored.\n",
      "  self._warn_if_super_not_called()\n"
     ]
    },
    {
     "name": "stdout",
     "output_type": "stream",
     "text": [
      "Epoch 1/25\n"
     ]
    },
    {
     "name": "stderr",
     "output_type": "stream",
     "text": [
      "WARNING: All log messages before absl::InitializeLog() is called are written to STDERR\n",
      "I0000 00:00:1731497789.118453    7654 service.cc:146] XLA service 0x76bb2c0154c0 initialized for platform CUDA (this does not guarantee that XLA will be used). Devices:\n",
      "I0000 00:00:1731497789.118507    7654 service.cc:154]   StreamExecutor device (0): NVIDIA GeForce RTX 3050 Ti Laptop GPU, Compute Capability 8.6\n",
      "2024-11-13 18:36:29.179560: I tensorflow/compiler/mlir/tensorflow/utils/dump_mlir_util.cc:268] disabling MLIR crash reproducer, set env var `MLIR_CRASH_REPRODUCER_DIRECTORY` to enable.\n",
      "2024-11-13 18:36:29.522224: I external/local_xla/xla/stream_executor/cuda/cuda_dnn.cc:531] Loaded cuDNN version 8907\n",
      "2024-11-13 18:36:30.881495: W external/local_xla/xla/service/gpu/nvptx_compiler.cc:762] The NVIDIA driver's CUDA version is 12.2 which is older than the ptxas CUDA version (12.3.107). Because the driver is older than the ptxas version, XLA is disabling parallel compilation, which may slow down compilation. You should update your NVIDIA driver or use the NVIDIA-provided CUDA forward compatibility packages.\n"
     ]
    },
    {
     "name": "stdout",
     "output_type": "stream",
     "text": [
      "\u001B[1m  3/250\u001B[0m \u001B[37m━━━━━━━━━━━━━━━━━━━━\u001B[0m \u001B[1m20s\u001B[0m 83ms/step - accuracy: 0.5573 - loss: 0.8021"
     ]
    },
    {
     "name": "stderr",
     "output_type": "stream",
     "text": [
      "I0000 00:00:1731497791.335991    7654 device_compiler.h:188] Compiled cluster using XLA!  This line is logged at most once for the lifetime of the process.\n"
     ]
    },
    {
     "name": "stdout",
     "output_type": "stream",
     "text": [
      "\u001B[1m250/250\u001B[0m \u001B[32m━━━━━━━━━━━━━━━━━━━━\u001B[0m\u001B[37m\u001B[0m \u001B[1m0s\u001B[0m 184ms/step - accuracy: 0.5770 - loss: 0.6823"
     ]
    },
    {
     "name": "stderr",
     "output_type": "stream",
     "text": [
      "/home/naufalsyahandra/anaconda3/lib/python3.12/site-packages/keras/src/trainers/data_adapters/py_dataset_adapter.py:121: UserWarning: Your `PyDataset` class should call `super().__init__(**kwargs)` in its constructor. `**kwargs` can include `workers`, `use_multiprocessing`, `max_queue_size`. Do not pass these arguments to `fit()`, as they will be ignored.\n",
      "  self._warn_if_super_not_called()\n"
     ]
    },
    {
     "name": "stdout",
     "output_type": "stream",
     "text": [
      "\u001B[1m250/250\u001B[0m \u001B[32m━━━━━━━━━━━━━━━━━━━━\u001B[0m\u001B[37m\u001B[0m \u001B[1m59s\u001B[0m 222ms/step - accuracy: 0.5772 - loss: 0.6822 - val_accuracy: 0.6990 - val_loss: 0.5902\n",
      "Epoch 2/25\n",
      "\u001B[1m250/250\u001B[0m \u001B[32m━━━━━━━━━━━━━━━━━━━━\u001B[0m\u001B[37m\u001B[0m \u001B[1m51s\u001B[0m 203ms/step - accuracy: 0.6803 - loss: 0.5918 - val_accuracy: 0.6750 - val_loss: 0.5983\n",
      "Epoch 3/25\n",
      "\u001B[1m250/250\u001B[0m \u001B[32m━━━━━━━━━━━━━━━━━━━━\u001B[0m\u001B[37m\u001B[0m \u001B[1m48s\u001B[0m 192ms/step - accuracy: 0.7063 - loss: 0.5738 - val_accuracy: 0.7020 - val_loss: 0.5775\n",
      "Epoch 4/25\n",
      "\u001B[1m250/250\u001B[0m \u001B[32m━━━━━━━━━━━━━━━━━━━━\u001B[0m\u001B[37m\u001B[0m \u001B[1m47s\u001B[0m 189ms/step - accuracy: 0.7166 - loss: 0.5485 - val_accuracy: 0.7295 - val_loss: 0.5503\n",
      "Epoch 5/25\n",
      "\u001B[1m250/250\u001B[0m \u001B[32m━━━━━━━━━━━━━━━━━━━━\u001B[0m\u001B[37m\u001B[0m \u001B[1m46s\u001B[0m 186ms/step - accuracy: 0.7153 - loss: 0.5525 - val_accuracy: 0.7340 - val_loss: 0.5451\n",
      "Epoch 6/25\n",
      "\u001B[1m250/250\u001B[0m \u001B[32m━━━━━━━━━━━━━━━━━━━━\u001B[0m\u001B[37m\u001B[0m \u001B[1m46s\u001B[0m 186ms/step - accuracy: 0.7338 - loss: 0.5298 - val_accuracy: 0.7435 - val_loss: 0.5279\n",
      "Epoch 7/25\n",
      "\u001B[1m250/250\u001B[0m \u001B[32m━━━━━━━━━━━━━━━━━━━━\u001B[0m\u001B[37m\u001B[0m \u001B[1m47s\u001B[0m 186ms/step - accuracy: 0.7451 - loss: 0.5103 - val_accuracy: 0.7245 - val_loss: 0.5457\n",
      "Epoch 8/25\n",
      "\u001B[1m250/250\u001B[0m \u001B[32m━━━━━━━━━━━━━━━━━━━━\u001B[0m\u001B[37m\u001B[0m \u001B[1m47s\u001B[0m 187ms/step - accuracy: 0.7411 - loss: 0.5124 - val_accuracy: 0.7060 - val_loss: 0.5917\n",
      "Epoch 9/25\n",
      "\u001B[1m250/250\u001B[0m \u001B[32m━━━━━━━━━━━━━━━━━━━━\u001B[0m\u001B[37m\u001B[0m \u001B[1m47s\u001B[0m 189ms/step - accuracy: 0.7597 - loss: 0.4992 - val_accuracy: 0.7400 - val_loss: 0.5383\n",
      "Epoch 10/25\n",
      "\u001B[1m250/250\u001B[0m \u001B[32m━━━━━━━━━━━━━━━━━━━━\u001B[0m\u001B[37m\u001B[0m \u001B[1m47s\u001B[0m 189ms/step - accuracy: 0.7629 - loss: 0.4928 - val_accuracy: 0.7530 - val_loss: 0.5365\n",
      "Epoch 11/25\n",
      "\u001B[1m250/250\u001B[0m \u001B[32m━━━━━━━━━━━━━━━━━━━━\u001B[0m\u001B[37m\u001B[0m \u001B[1m47s\u001B[0m 189ms/step - accuracy: 0.7745 - loss: 0.4816 - val_accuracy: 0.7510 - val_loss: 0.5321\n",
      "Epoch 12/25\n",
      "\u001B[1m250/250\u001B[0m \u001B[32m━━━━━━━━━━━━━━━━━━━━\u001B[0m\u001B[37m\u001B[0m \u001B[1m48s\u001B[0m 191ms/step - accuracy: 0.7616 - loss: 0.4804 - val_accuracy: 0.7570 - val_loss: 0.5243\n",
      "Epoch 13/25\n",
      "\u001B[1m250/250\u001B[0m \u001B[32m━━━━━━━━━━━━━━━━━━━━\u001B[0m\u001B[37m\u001B[0m \u001B[1m48s\u001B[0m 192ms/step - accuracy: 0.7810 - loss: 0.4673 - val_accuracy: 0.7275 - val_loss: 0.5671\n",
      "Epoch 14/25\n",
      "\u001B[1m250/250\u001B[0m \u001B[32m━━━━━━━━━━━━━━━━━━━━\u001B[0m\u001B[37m\u001B[0m \u001B[1m48s\u001B[0m 191ms/step - accuracy: 0.7822 - loss: 0.4482 - val_accuracy: 0.7685 - val_loss: 0.5105\n",
      "Epoch 15/25\n",
      "\u001B[1m250/250\u001B[0m \u001B[32m━━━━━━━━━━━━━━━━━━━━\u001B[0m\u001B[37m\u001B[0m \u001B[1m48s\u001B[0m 190ms/step - accuracy: 0.7902 - loss: 0.4462 - val_accuracy: 0.7545 - val_loss: 0.5127\n",
      "Epoch 16/25\n",
      "\u001B[1m250/250\u001B[0m \u001B[32m━━━━━━━━━━━━━━━━━━━━\u001B[0m\u001B[37m\u001B[0m \u001B[1m48s\u001B[0m 191ms/step - accuracy: 0.7858 - loss: 0.4539 - val_accuracy: 0.7570 - val_loss: 0.5454\n",
      "Epoch 17/25\n",
      "\u001B[1m250/250\u001B[0m \u001B[32m━━━━━━━━━━━━━━━━━━━━\u001B[0m\u001B[37m\u001B[0m \u001B[1m47s\u001B[0m 189ms/step - accuracy: 0.7943 - loss: 0.4338 - val_accuracy: 0.7510 - val_loss: 0.5345\n",
      "Epoch 18/25\n",
      "\u001B[1m250/250\u001B[0m \u001B[32m━━━━━━━━━━━━━━━━━━━━\u001B[0m\u001B[37m\u001B[0m \u001B[1m47s\u001B[0m 190ms/step - accuracy: 0.8087 - loss: 0.4135 - val_accuracy: 0.7680 - val_loss: 0.5098\n",
      "Epoch 19/25\n",
      "\u001B[1m250/250\u001B[0m \u001B[32m━━━━━━━━━━━━━━━━━━━━\u001B[0m\u001B[37m\u001B[0m \u001B[1m47s\u001B[0m 190ms/step - accuracy: 0.8147 - loss: 0.4055 - val_accuracy: 0.7610 - val_loss: 0.5505\n",
      "Epoch 20/25\n",
      "\u001B[1m250/250\u001B[0m \u001B[32m━━━━━━━━━━━━━━━━━━━━\u001B[0m\u001B[37m\u001B[0m \u001B[1m47s\u001B[0m 189ms/step - accuracy: 0.8137 - loss: 0.3998 - val_accuracy: 0.7000 - val_loss: 0.6695\n",
      "Epoch 21/25\n",
      "\u001B[1m250/250\u001B[0m \u001B[32m━━━━━━━━━━━━━━━━━━━━\u001B[0m\u001B[37m\u001B[0m \u001B[1m47s\u001B[0m 189ms/step - accuracy: 0.8240 - loss: 0.3981 - val_accuracy: 0.7405 - val_loss: 0.5988\n",
      "Epoch 22/25\n",
      "\u001B[1m250/250\u001B[0m \u001B[32m━━━━━━━━━━━━━━━━━━━━\u001B[0m\u001B[37m\u001B[0m \u001B[1m47s\u001B[0m 189ms/step - accuracy: 0.8360 - loss: 0.3693 - val_accuracy: 0.7655 - val_loss: 0.5394\n",
      "Epoch 23/25\n",
      "\u001B[1m250/250\u001B[0m \u001B[32m━━━━━━━━━━━━━━━━━━━━\u001B[0m\u001B[37m\u001B[0m \u001B[1m47s\u001B[0m 188ms/step - accuracy: 0.8221 - loss: 0.3803 - val_accuracy: 0.7240 - val_loss: 0.6417\n",
      "Epoch 24/25\n",
      "\u001B[1m250/250\u001B[0m \u001B[32m━━━━━━━━━━━━━━━━━━━━\u001B[0m\u001B[37m\u001B[0m \u001B[1m47s\u001B[0m 189ms/step - accuracy: 0.8418 - loss: 0.3541 - val_accuracy: 0.7585 - val_loss: 0.5389\n",
      "Epoch 25/25\n",
      "\u001B[1m250/250\u001B[0m \u001B[32m━━━━━━━━━━━━━━━━━━━━\u001B[0m\u001B[37m\u001B[0m \u001B[1m47s\u001B[0m 189ms/step - accuracy: 0.8448 - loss: 0.3514 - val_accuracy: 0.7345 - val_loss: 0.5899\n"
     ]
    },
    {
     "data": {
      "text/plain": [
       "<keras.src.callbacks.history.History at 0x76bc760634d0>"
      ]
     },
     "execution_count": 23,
     "metadata": {},
     "output_type": "execute_result"
    }
   ],
   "execution_count": 23
  },
  {
   "metadata": {},
   "cell_type": "markdown",
   "source": "## Predicting the Image",
   "id": "df1d87b951eed007"
  },
  {
   "metadata": {
    "ExecuteTime": {
     "end_time": "2024-11-13T12:04:33.810650Z",
     "start_time": "2024-11-13T12:04:33.196322Z"
    }
   },
   "cell_type": "code",
   "source": [
    "import numpy as np\n",
    "from keras.preprocessing import image\n",
    "\n",
    "test_image = image.load_img('dataset/dataset/single_prediction/cat_or_dog_1.jpg', target_size = (64, 64))\n",
    "test_image = image.img_to_array(test_image)\n",
    "test_image = np.expand_dims(test_image, axis = 0)\n",
    "\n",
    "result = cnn.predict(test_image)\n",
    "training_set.class_indices\n",
    "if result[0][0] == 1:\n",
    "  prediction = 'dog'\n",
    "else:\n",
    "  prediction = 'cat'\n",
    "\n",
    "print(prediction)"
   ],
   "id": "c59531f3481da519",
   "outputs": [
    {
     "name": "stdout",
     "output_type": "stream",
     "text": [
      "\u001B[1m1/1\u001B[0m \u001B[32m━━━━━━━━━━━━━━━━━━━━\u001B[0m\u001B[37m\u001B[0m \u001B[1m0s\u001B[0m 499ms/step\n",
      "dog\n"
     ]
    }
   ],
   "execution_count": 25
  },
  {
   "metadata": {},
   "cell_type": "code",
   "outputs": [],
   "execution_count": null,
   "source": "",
   "id": "77e97f46748075f1"
  }
 ],
 "metadata": {
  "kernelspec": {
   "display_name": "Python 3",
   "language": "python",
   "name": "python3"
  },
  "language_info": {
   "codemirror_mode": {
    "name": "ipython",
    "version": 2
   },
   "file_extension": ".py",
   "mimetype": "text/x-python",
   "name": "python",
   "nbconvert_exporter": "python",
   "pygments_lexer": "ipython2",
   "version": "2.7.6"
  }
 },
 "nbformat": 4,
 "nbformat_minor": 5
}
